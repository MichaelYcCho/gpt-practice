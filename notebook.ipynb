{
 "cells": [
  {
   "cell_type": "code",
   "execution_count": 1,
   "metadata": {},
   "outputs": [],
   "source": [
    "from langchain.chat_models import ChatOpenAI\n",
    "from langchain.prompts import PromptTemplate, ChatPromptTemplate\n",
    "from langchain.callbacks import StreamingStdOutCallbackHandler\n",
    "from dotenv import load_dotenv\n",
    "\n",
    "\n",
    "load_dotenv('./env/.env')\n",
    "\n",
    "\n",
    "#llm = OpenAI()\n",
    "chat = ChatOpenAI(\n",
    "    model_name=\"gpt-3.5-turbo\",\n",
    "    temperature=0.1, \n",
    "    streaming=True,\n",
    "    callbacks=[\n",
    "        StreamingStdOutCallbackHandler(),\n",
    "    ],\n",
    ")\n",
    "\n",
    "chef_prompt = ChatPromptTemplate.from_messages(\n",
    "    [\n",
    "        (\n",
    "            \"system\",\n",
    "            \"You are a world-class international chef. You create easy to follow recipies for any type of cuisine with easy to find ingredients.\",\n",
    "        ),\n",
    "        (\"human\", \"I want to cook {cuisine} food.\"),\n",
    "    ]\n",
    ")\n",
    "\n",
    "chef_chain = chef_prompt | chat"
   ]
  },
  {
   "cell_type": "code",
   "execution_count": 2,
   "metadata": {},
   "outputs": [
    {
     "name": "stdout",
     "output_type": "stream",
     "text": [
      "That's great! Indian cuisine is known for its rich flavors and diverse range of dishes. Here are a few popular Indian recipes you can try:\n",
      "\n",
      "1. Butter Chicken: A creamy and flavorful chicken dish cooked in a rich tomato and butter sauce.\n",
      "\n",
      "2. Chana Masala: A spicy and tangy chickpea curry made with a blend of aromatic spices.\n",
      "\n",
      "3. Vegetable Biryani: A fragrant and colorful rice dish cooked with mixed vegetables and a blend of spices.\n",
      "\n",
      "4. Palak Paneer: A creamy spinach curry with cubes of paneer (Indian cottage cheese) cooked in a flavorful gravy.\n",
      "\n",
      "5. Aloo Gobi: A simple yet delicious dish made with potatoes and cauliflower cooked with spices.\n",
      "\n",
      "These are just a few examples, but there are countless other Indian dishes you can explore. Let me know if you need any specific recipes or cooking tips!For the Butter Chicken recipe, you can replace the chicken with paneer (Indian cottage cheese) or tofu. To prepare paneer as a chicken substitute, you can cut it into cubes and marinate it in a mixture of yogurt, ginger-garlic paste, turmeric, garam masala, and a pinch of red chili powder. Then, you can either pan-fry or bake the marinated paneer until it's golden brown before adding it to the buttery tomato sauce.\n",
      "\n",
      "For the Chana Masala recipe, you can substitute the chickpeas with boiled and cubed potatoes or cooked lentils. Both options will absorb the flavors of the spices well. Simply adjust the cooking time accordingly to ensure that the potatoes are cooked through and the dish reaches the desired consistency.\n",
      "\n",
      "For the Vegetable Biryani recipe, you can use a variety of vegetables such as carrots, peas, bell peppers, and potatoes to replace the meat. You can sauté the mixed vegetables with biryani spices before layering them with partially cooked basmati rice and finishing the dish by steaming it until the rice is fully cooked.\n",
      "\n",
      "For the Palak Paneer recipe, you can use tofu or cooked chickpeas as a substitute for paneer. Tofu can be cubed and lightly pan-fried before adding it to the spinach gravy. If using chickpeas, you can simmer them in the spinach sauce until they are heated through and well-coated with the flavors.\n",
      "\n",
      "For the Aloo Gobi recipe, you can simply omit the cauliflower and prepare aloo (potato) masala by sautéing cubed potatoes with the spices called for in the recipe. This will result in a flavorful potato dish that can stand on its own or be served alongside other vegetarian Indian dishes.\n",
      "\n",
      "I hope these vegetarian alternatives help you enjoy these traditional Indian recipes in a meat-free version! Let me know if you need more information or specific cooking tips."
     ]
    },
    {
     "data": {
      "text/plain": [
       "AIMessageChunk(content=\"For the Butter Chicken recipe, you can replace the chicken with paneer (Indian cottage cheese) or tofu. To prepare paneer as a chicken substitute, you can cut it into cubes and marinate it in a mixture of yogurt, ginger-garlic paste, turmeric, garam masala, and a pinch of red chili powder. Then, you can either pan-fry or bake the marinated paneer until it's golden brown before adding it to the buttery tomato sauce.\\n\\nFor the Chana Masala recipe, you can substitute the chickpeas with boiled and cubed potatoes or cooked lentils. Both options will absorb the flavors of the spices well. Simply adjust the cooking time accordingly to ensure that the potatoes are cooked through and the dish reaches the desired consistency.\\n\\nFor the Vegetable Biryani recipe, you can use a variety of vegetables such as carrots, peas, bell peppers, and potatoes to replace the meat. You can sauté the mixed vegetables with biryani spices before layering them with partially cooked basmati rice and finishing the dish by steaming it until the rice is fully cooked.\\n\\nFor the Palak Paneer recipe, you can use tofu or cooked chickpeas as a substitute for paneer. Tofu can be cubed and lightly pan-fried before adding it to the spinach gravy. If using chickpeas, you can simmer them in the spinach sauce until they are heated through and well-coated with the flavors.\\n\\nFor the Aloo Gobi recipe, you can simply omit the cauliflower and prepare aloo (potato) masala by sautéing cubed potatoes with the spices called for in the recipe. This will result in a flavorful potato dish that can stand on its own or be served alongside other vegetarian Indian dishes.\\n\\nI hope these vegetarian alternatives help you enjoy these traditional Indian recipes in a meat-free version! Let me know if you need more information or specific cooking tips.\")"
      ]
     },
     "execution_count": 2,
     "metadata": {},
     "output_type": "execute_result"
    }
   ],
   "source": [
    "# 채식주의자 요리법을 찾게하는 프롬프트\n",
    "veg_chef_prompt = ChatPromptTemplate.from_messages(\n",
    "    [\n",
    "        (\n",
    "            \"system\",\n",
    "            \"You are a vegetarian chef specialized on making traditional recipies vegetarian. You find alternative ingredients and explain their preparation. You don't radically modify the recipe. If there is no alternative for a food just say you don't know how to replace it.\",\n",
    "        ),\n",
    "        (\"human\", \"{recipe}\"),\n",
    "    ]\n",
    ")\n",
    "\n",
    "\n",
    "veg_chain = veg_chef_prompt | chat\n",
    "\n",
    "# recipe의 값은 veg_chain의 첫번째 프롬프트에 전달된다.\n",
    "final_chain = {\"recipe\": chef_chain} | veg_chain\n",
    "\n",
    "# invoke 된 입력값은 final_chain의 첫번째 프롬프트(chef_chain)에 전달된다.\n",
    "# 그냥 쉽게이해하면 final_chain의 invoke는 변수들을 순서대로 입력해야하는데 그 순서가 cuisine -> recipe 이다.\n",
    "final_chain.invoke({\"cuisine\": \"indian\"})"
   ]
  }
 ],
 "metadata": {
  "kernelspec": {
   "display_name": "Python 3",
   "language": "python",
   "name": "python3"
  },
  "language_info": {
   "codemirror_mode": {
    "name": "ipython",
    "version": 3
   },
   "file_extension": ".py",
   "mimetype": "text/x-python",
   "name": "python",
   "nbconvert_exporter": "python",
   "pygments_lexer": "ipython3",
   "version": "3.11.4"
  }
 },
 "nbformat": 4,
 "nbformat_minor": 2
}
