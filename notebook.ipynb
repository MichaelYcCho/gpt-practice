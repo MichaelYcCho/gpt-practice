{
 "cells": [
  {
   "cell_type": "code",
   "execution_count": 3,
   "metadata": {},
   "outputs": [
    {
     "data": {
      "text/plain": [
       "{'history': [HumanMessage(content='Hello'),\n",
       "  AIMessage(content='How are you'),\n",
       "  HumanMessage(content='Hello'),\n",
       "  AIMessage(content='How are you'),\n",
       "  HumanMessage(content='Hello'),\n",
       "  AIMessage(content='How are you'),\n",
       "  HumanMessage(content='Hello'),\n",
       "  AIMessage(content='How are you')]}"
      ]
     },
     "execution_count": 3,
     "metadata": {},
     "output_type": "execute_result"
    }
   ],
   "source": [
    "from cv2 import add\n",
    "from langchain.memory import ConversationBufferWindowMemory\n",
    "\n",
    "# k는 최대 저장할 메모리의 갯수 \n",
    "memory = ConversationBufferWindowMemory(return_messages=True, k=4)\n",
    "\n",
    "def add_message(input, output):\n",
    "    memory.save_context({ \"input:\" : input }, { \"output:\" : output })\n",
    "\n",
    "\n",
    "add_message(1, 2)\n",
    "add_message(2, 3)\n",
    "add_message(3, 4)\n",
    "add_message(4, 5)\n",
    "add_message(5, 6)\n",
    "\n",
    "memory.load_memory_variables({})\n",
    "\n"
   ]
  }
 ],
 "metadata": {
  "kernelspec": {
   "display_name": "Python 3",
   "language": "python",
   "name": "python3"
  },
  "language_info": {
   "codemirror_mode": {
    "name": "ipython",
    "version": 3
   },
   "file_extension": ".py",
   "mimetype": "text/x-python",
   "name": "python",
   "nbconvert_exporter": "python",
   "pygments_lexer": "ipython3",
   "version": "3.11.9"
  }
 },
 "nbformat": 4,
 "nbformat_minor": 2
}
