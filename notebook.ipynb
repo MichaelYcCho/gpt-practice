{
 "cells": [
  {
   "cell_type": "code",
   "execution_count": 53,
   "metadata": {},
   "outputs": [
    {
     "name": "stdout",
     "output_type": "stream",
     "text": [
      "content='Hello Michael! How can I assist you today?'\n"
     ]
    }
   ],
   "source": [
    "from langchain.chat_models import ChatOpenAI\n",
    "from langchain.prompts import ChatPromptTemplate, MessagesPlaceholder\n",
    "from langchain.memory import ConversationSummaryBufferMemory\n",
    "from langchain.schema.runnable import RunnablePassthrough\n",
    "\n",
    "from dotenv import load_dotenv\n",
    "\n",
    "load_dotenv('./env/.env')\n",
    "\n",
    "llm = ChatOpenAI(\n",
    "    model_name=\"gpt-3.5-turbo\",\n",
    "    temperature=0.1,\n",
    ")\n",
    "\n",
    "# 메세지 토큰 수의 최대값\n",
    "# memory_key의 default값은 \"history\"이다\n",
    "memory = ConversationSummaryBufferMemory(\n",
    "    llm=llm, \n",
    "    max_token_limit=120, \n",
    "    return_messages=True\n",
    ")\n",
    "\n",
    "prompt = ChatPromptTemplate.from_messages(\n",
    "    [\n",
    "        (\"system\", \"You are a helpful AI talking to a human\"),\n",
    "        MessagesPlaceholder(variable_name=\"history\"),\n",
    "        (\"human\", \"{question}\"),\n",
    "    ]\n",
    ")\n",
    "\n",
    "def load_memory(_):\n",
    "    return memory.load_memory_variables({})[\"history\"]\n",
    "\n",
    "# 1. load_memory가 호출된다, invoke의 주석된 \"chat_history\" 와 같은 역할을 하는것이다 -> load_memory의 결과값이 chat_history input으로 들어간다\n",
    "# 이 값은 Prompt의 variable_name에 들어간다\n",
    "# 이렇게 RunnablePassthrough는 프롬프트가 format되기 전에 함수를 실행시키는걸 허락해주는 역할을 한다. 이 함수를 활용해 원하는 값을 변수에 할당할 수 있게 되는 것이다\n",
    "# 그리고 이 변수들은 prompt로 전달된다\n",
    "# assign을 할때 사용자의 input을 받게된다. 여기서의 input은 {\"question\": \"My name is Michael\"} 이다. 여기선 input을 활용하지 않으므로 _ 처리하자\n",
    "chain = RunnablePassthrough.assign(history=load_memory) | prompt | llm\n",
    "\n",
    "def invoke_chain(question):\n",
    "    # 사용자로 부터 질문을 받는 함수\n",
    "    result =  chain.invoke({\n",
    "        \"question\": question\n",
    "    })\n",
    "    # ex) result = AIMessage(content=\"Hello, I am an AI\")\n",
    "    memory.save_context({\"input\": question}, {\"output\": result.content})\n",
    "    print(result)\n",
    "\n",
    "\n",
    "invoke_chain(\"My name is Michael\")\n",
    "\n",
    "\n"
   ]
  }
 ],
 "metadata": {
  "kernelspec": {
   "display_name": "Python 3",
   "language": "python",
   "name": "python3"
  },
  "language_info": {
   "codemirror_mode": {
    "name": "ipython",
    "version": 3
   },
   "file_extension": ".py",
   "mimetype": "text/x-python",
   "name": "python",
   "nbconvert_exporter": "python",
   "pygments_lexer": "ipython3",
   "version": "3.11.9"
  }
 },
 "nbformat": 4,
 "nbformat_minor": 2
}
